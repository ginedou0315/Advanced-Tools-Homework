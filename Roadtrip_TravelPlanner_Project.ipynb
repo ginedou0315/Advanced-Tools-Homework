{
  "nbformat": 4,
  "nbformat_minor": 0,
  "metadata": {
    "colab": {
      "provenance": [],
      "authorship_tag": "ABX9TyPN1FyI6G5BLGut6WXAPHpA",
      "include_colab_link": true
    },
    "kernelspec": {
      "name": "python3",
      "display_name": "Python 3"
    },
    "language_info": {
      "name": "python"
    }
  },
  "cells": [
    {
      "cell_type": "markdown",
      "metadata": {
        "id": "view-in-github",
        "colab_type": "text"
      },
      "source": [
        "<a href=\"https://colab.research.google.com/github/ginedou0315/Advanced-Tools-Homework/blob/main/Roadtrip_TravelPlanner_Project.ipynb\" target=\"_parent\"><img src=\"https://colab.research.google.com/assets/colab-badge.svg\" alt=\"Open In Colab\"/></a>"
      ]
    },
    {
      "cell_type": "code",
      "execution_count": null,
      "metadata": {
        "colab": {
          "base_uri": "https://localhost:8080/",
          "height": 72
        },
        "id": "7Y9ISJ6NBSN9",
        "outputId": "1397002b-702b-4d1f-d480-db7a7d493d84"
      },
      "outputs": [
        {
          "output_type": "display_data",
          "data": {
            "text/plain": [
              "\u001b[1;38;5;129mWelcome to the Travel Itinerary Planner!\u001b[0m\n"
            ],
            "text/html": [
              "<pre style=\"white-space:pre;overflow-x:auto;line-height:normal;font-family:Menlo,'DejaVu Sans Mono',consolas,'Courier New',monospace\"><span style=\"color: #af00ff; text-decoration-color: #af00ff; font-weight: bold\">Welcome to the Travel Itinerary Planner!</span>\n",
              "</pre>\n"
            ]
          },
          "metadata": {}
        }
      ],
      "source": [
        "import requests\n",
        "from rich import print\n",
        "from rich.markdown import Markdown\n",
        "\n",
        "def display_current_weather(location):\n",
        "  \"\"\"Get the real time temperature and condition in a location.\"\"\"\n",
        "  api_key = \"e430a0b40t5635ffab9bc012406aa3ao\"\n",
        "  api_url = f\"https://api.shecodes.io/weather/v1/current?query={location}&key={api_key}\"\n",
        "\n",
        "  response = requests.get(api_url)\n",
        "  response_data = response.json()\n",
        "\n",
        "  temperature = round(response_data[\"temperature\"]['current'])\n",
        "  condition = response_data[\"condition\"]['description']\n",
        "  print(f\"\\n\\nThe current temperature in {location} is {temperature}°C, {condition}\\n\")\n",
        "\n",
        "def generate_itinerary(origin, destination, duration):\n",
        "  \"\"\"Generate travel itinerary between two cities using AI.\"\"\"\n",
        "  print(f\"\\n\\nGenerating itinerary from {origin} to {destination}...\\n\")\n",
        "\n",
        "  prompt =f\"Generate travel itinerary from {origin} to {destination} in {duration} days. This is a road trip. Suggest activities for Morning, Afternoon and Evening. Keep it short, less than 15 lines, add at least 5 emojis and add an estimated budget for each day in euros\"\n",
        "  context = \"You are a travel expert and knows the best tourist spots around the world\"\n",
        "  api_key = \"e430a0b40t5635ffab9bc012406aa3ao\"\n",
        "  api_url = f\"https://api.shecodes.io/ai/v1/generate?prompt={prompt}&context={context}&key={api_key}\"\n",
        "\n",
        "  response = requests.get(api_url)\n",
        "  response_data = response.json()\n",
        "  roadtrip = Markdown(response_data ['answer'])\n",
        "\n",
        "  print (roadtrip)\n",
        "\n",
        "def welcome():\n",
        "  print(\"[bold purple]Welcome to the Travel Itinerary Planner![/bold purple]\")\n",
        "\n",
        "def credit():\n",
        "  print(\"\\n[purple]This AI Roadtrip Travel Itinerary Planner was built by Ginelle Doubek. Thank you for using it 🫶[/purple]\")\n",
        "\n",
        "welcome()\n",
        "\n",
        "origin = input(\"Which city does your trip start from? \")\n",
        "destination = input (\"Which city does your trip end in? \")\n",
        "duration = input (\"How many days will your trip last?(enter a number only, i.e 7) \")\n",
        "\n",
        "if origin and destination and duration.isdigit():\n",
        "  display_current_weather(origin)\n",
        "  display_current_weather(destination)\n",
        "  generate_itinerary(origin, destination, duration)\n",
        "  credit()\n",
        "else:\n",
        "  print(\"Please try again. Make sure you eneter a valid information.\")\n"
      ]
    },
    {
      "cell_type": "code",
      "source": [],
      "metadata": {
        "id": "8LlLp9-UZFIt"
      },
      "execution_count": null,
      "outputs": []
    }
  ]
}